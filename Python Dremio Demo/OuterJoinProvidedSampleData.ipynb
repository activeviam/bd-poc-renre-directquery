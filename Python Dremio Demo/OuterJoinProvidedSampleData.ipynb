{
 "cells": [
  {
   "cell_type": "code",
   "execution_count": 1,
   "id": "2095ab4a-5f89-49d4-bfe5-4dd4e0948d3a",
   "metadata": {},
   "outputs": [],
   "source": [
    "import os\n",
    "import sys\n",
    "import atoti as tt\n",
    "import pandas as pd"
   ]
  },
  {
   "cell_type": "code",
   "execution_count": 2,
   "id": "b4f99bb3-f7c0-412f-905e-fd890f625399",
   "metadata": {},
   "outputs": [],
   "source": [
    "session = tt.Session(\n",
    "    # port=9098,\n",
    "    logging=tt.LoggingConfig(destination=\"./logging/outer_join.log\")\n",
    ")"
   ]
  },
  {
   "cell_type": "code",
   "execution_count": 3,
   "id": "462c0b16-4ffa-4fa2-b83b-355442728304",
   "metadata": {},
   "outputs": [],
   "source": [
    "benchmark = session.read_csv(\"./sample_data/benchmark.csv\")"
   ]
  },
  {
   "cell_type": "code",
   "execution_count": 4,
   "id": "f4d5a588-b968-48fa-ba4e-ce4fd87bf9f5",
   "metadata": {},
   "outputs": [
    {
     "data": {
      "text/html": [
       "<div>\n",
       "<style scoped>\n",
       "    .dataframe tbody tr th:only-of-type {\n",
       "        vertical-align: middle;\n",
       "    }\n",
       "\n",
       "    .dataframe tbody tr th {\n",
       "        vertical-align: top;\n",
       "    }\n",
       "\n",
       "    .dataframe thead th {\n",
       "        text-align: right;\n",
       "    }\n",
       "</style>\n",
       "<table border=\"1\" class=\"dataframe\">\n",
       "  <thead>\n",
       "    <tr style=\"text-align: right;\">\n",
       "      <th></th>\n",
       "      <th>AsOfDate</th>\n",
       "      <th>PortfolioTicker</th>\n",
       "      <th>BenchmarkTicker</th>\n",
       "      <th>CUSIP</th>\n",
       "      <th>BenchmarkMarketValue</th>\n",
       "    </tr>\n",
       "  </thead>\n",
       "  <tbody>\n",
       "    <tr>\n",
       "      <th>0</th>\n",
       "      <td>1/31/24</td>\n",
       "      <td>GBTLDQ</td>\n",
       "      <td>BMMLC04</td>\n",
       "      <td>US0000001</td>\n",
       "      <td>1000</td>\n",
       "    </tr>\n",
       "    <tr>\n",
       "      <th>1</th>\n",
       "      <td>1/31/24</td>\n",
       "      <td>GBTLDQ</td>\n",
       "      <td>BMMLC04</td>\n",
       "      <td>GB0000002</td>\n",
       "      <td>4000</td>\n",
       "    </tr>\n",
       "    <tr>\n",
       "      <th>2</th>\n",
       "      <td>1/31/24</td>\n",
       "      <td>GBTLDQ</td>\n",
       "      <td>BMMLC04</td>\n",
       "      <td>US0000010</td>\n",
       "      <td>5000</td>\n",
       "    </tr>\n",
       "    <tr>\n",
       "      <th>3</th>\n",
       "      <td>1/31/24</td>\n",
       "      <td>GBTLDQ</td>\n",
       "      <td>BMMLC04</td>\n",
       "      <td>US0000011</td>\n",
       "      <td>2000</td>\n",
       "    </tr>\n",
       "    <tr>\n",
       "      <th>4</th>\n",
       "      <td>1/31/24</td>\n",
       "      <td>GBTLDQ</td>\n",
       "      <td>BMMLC04</td>\n",
       "      <td>US0000012</td>\n",
       "      <td>3000</td>\n",
       "    </tr>\n",
       "  </tbody>\n",
       "</table>\n",
       "</div>"
      ],
      "text/plain": [
       "  AsOfDate PortfolioTicker BenchmarkTicker      CUSIP  BenchmarkMarketValue\n",
       "0  1/31/24          GBTLDQ         BMMLC04  US0000001                  1000\n",
       "1  1/31/24          GBTLDQ         BMMLC04  GB0000002                  4000\n",
       "2  1/31/24          GBTLDQ         BMMLC04  US0000010                  5000\n",
       "3  1/31/24          GBTLDQ         BMMLC04  US0000011                  2000\n",
       "4  1/31/24          GBTLDQ         BMMLC04  US0000012                  3000"
      ]
     },
     "execution_count": 4,
     "metadata": {},
     "output_type": "execute_result"
    }
   ],
   "source": [
    "benchmark.head()"
   ]
  },
  {
   "cell_type": "code",
   "execution_count": 5,
   "id": "b0472640-707d-4aca-8dbd-49c74ba0bff3",
   "metadata": {},
   "outputs": [],
   "source": [
    "holding = session.read_csv(\"./sample_data/holding.csv\")"
   ]
  },
  {
   "cell_type": "code",
   "execution_count": 6,
   "id": "0f9a06b5-dbb3-4a4c-832a-dec66af0dc8a",
   "metadata": {},
   "outputs": [
    {
     "data": {
      "text/html": [
       "<div>\n",
       "<style scoped>\n",
       "    .dataframe tbody tr th:only-of-type {\n",
       "        vertical-align: middle;\n",
       "    }\n",
       "\n",
       "    .dataframe tbody tr th {\n",
       "        vertical-align: top;\n",
       "    }\n",
       "\n",
       "    .dataframe thead th {\n",
       "        text-align: right;\n",
       "    }\n",
       "</style>\n",
       "<table border=\"1\" class=\"dataframe\">\n",
       "  <thead>\n",
       "    <tr style=\"text-align: right;\">\n",
       "      <th></th>\n",
       "      <th>AsOfDate</th>\n",
       "      <th>PortfolioTicker</th>\n",
       "      <th>CUSIP</th>\n",
       "      <th>HoldingMarketValue</th>\n",
       "    </tr>\n",
       "  </thead>\n",
       "  <tbody>\n",
       "    <tr>\n",
       "      <th>0</th>\n",
       "      <td>1/31/24</td>\n",
       "      <td>GBTLDQ</td>\n",
       "      <td>US0000001</td>\n",
       "      <td>1000</td>\n",
       "    </tr>\n",
       "    <tr>\n",
       "      <th>1</th>\n",
       "      <td>1/31/24</td>\n",
       "      <td>GBTLDQ</td>\n",
       "      <td>US0000002</td>\n",
       "      <td>2000</td>\n",
       "    </tr>\n",
       "    <tr>\n",
       "      <th>2</th>\n",
       "      <td>1/31/24</td>\n",
       "      <td>GBTLDQ</td>\n",
       "      <td>US0000004</td>\n",
       "      <td>6000</td>\n",
       "    </tr>\n",
       "    <tr>\n",
       "      <th>3</th>\n",
       "      <td>1/31/24</td>\n",
       "      <td>GBTLDQ</td>\n",
       "      <td>US0000003</td>\n",
       "      <td>4000</td>\n",
       "    </tr>\n",
       "  </tbody>\n",
       "</table>\n",
       "</div>"
      ],
      "text/plain": [
       "  AsOfDate PortfolioTicker      CUSIP  HoldingMarketValue\n",
       "0  1/31/24          GBTLDQ  US0000001                1000\n",
       "1  1/31/24          GBTLDQ  US0000002                2000\n",
       "2  1/31/24          GBTLDQ  US0000004                6000\n",
       "3  1/31/24          GBTLDQ  US0000003                4000"
      ]
     },
     "execution_count": 6,
     "metadata": {},
     "output_type": "execute_result"
    }
   ],
   "source": [
    "holding.head()"
   ]
  },
  {
   "cell_type": "code",
   "execution_count": 7,
   "id": "c249e6ab-3614-42e8-883b-177592e0df38",
   "metadata": {},
   "outputs": [],
   "source": [
    "table = session.create_table(\n",
    "    name=\"base\",\n",
    "    types={\n",
    "        \"AsOfDate\": tt.LOCAL_DATE,\n",
    "        \"mv\": tt.DOUBLE,\n",
    "        \"CUSIP\": tt.STRING,\n",
    "        \"PortfolioTicker\": tt.STRING,\n",
    "        \"BenchmarkTicker\": tt.STRING,\n",
    "    },\n",
    "    keys=[\"AsOfDate\",\"CUSIP\", \"PortfolioTicker\", \"BenchmarkTicker\"],\n",
    "    default_values={\n",
    "        \"PortfolioTicker\": \"fake_ben\",\n",
    "        \"BenchmarkTicker\": \"fake_por\"\n",
    "    }\n",
    ")"
   ]
  },
  {
   "cell_type": "code",
   "execution_count": 8,
   "id": "85f05402-d57f-4aa5-8497-d8fbf4839ccf",
   "metadata": {},
   "outputs": [
    {
     "name": "stderr",
     "output_type": "stream",
     "text": [
      "6 error(s) occurred while feeding the table base. Check the session's logs for more details.\n",
      "4 error(s) occurred while feeding the table base. Check the session's logs for more details.\n"
     ]
    }
   ],
   "source": [
    "table.load_csv(\"./sample_data/benchmark.csv\")\n",
    "table.load_csv(\"./sample_data/holding.csv\")"
   ]
  },
  {
   "cell_type": "code",
   "execution_count": 9,
   "id": "52912032-2968-490d-bb05-77bf73d89b55",
   "metadata": {},
   "outputs": [],
   "source": [
    "benchmark_members=pd.read_csv(\"./sample_data/benchmark.csv\")['BenchmarkTicker'].unique().tolist()\n",
    "portfolio_members=pd.read_csv(\"./sample_data/holding.csv\")['PortfolioTicker'].unique().tolist()"
   ]
  },
  {
   "cell_type": "code",
   "execution_count": 10,
   "id": "ca0f1740-142d-4f63-b152-58768cba77e5",
   "metadata": {},
   "outputs": [],
   "source": [
    "cube = session.create_cube(holding)\n",
    "m, l, h = cube.measures, cube.levels, cube.hierarchies"
   ]
  },
  {
   "cell_type": "code",
   "execution_count": 11,
   "id": "7011cef9-20ff-49b4-bdca-557cb85e3079",
   "metadata": {},
   "outputs": [],
   "source": [
    "cube.create_parameter_hierarchy_from_members(name=\"Benchmark_id\", members=benchmark_members)"
   ]
  },
  {
   "cell_type": "code",
   "execution_count": 12,
   "id": "de0307b4-bdae-4b07-9d77-030236f1ade9",
   "metadata": {},
   "outputs": [],
   "source": [
    "cube.create_parameter_hierarchy_from_members(name=\"_portfolio_id\", members=[\"fake_ben\"])"
   ]
  },
  {
   "cell_type": "code",
   "execution_count": 11,
   "id": "e59bd11c-595c-40c7-812e-5fe54e70f54b",
   "metadata": {},
   "outputs": [
    {
     "data": {
      "application/json": {
       "Holding": {
        "AsOfDate": [
         "AsOfDate"
        ],
        "CUSIP": [
         "CUSIP"
        ],
        "PortfolioTicker": [
         "PortfolioTicker"
        ]
       }
      },
      "text/html": [
       "<ul>\n",
       "<li>Dimensions\n",
       "  <ul>\n",
       "  <li>Holding\n",
       "    <ul>\n",
       "    <li>AsOfDate\n",
       "      <ol>\n",
       "      <li>AsOfDate</li>\n",
       "      </ol>    </li>\n",
       "    <li>CUSIP\n",
       "      <ol>\n",
       "      <li>CUSIP</li>\n",
       "      </ol>    </li>\n",
       "    <li>PortfolioTicker\n",
       "      <ol>\n",
       "      <li>PortfolioTicker</li>\n",
       "      </ol>    </li>\n",
       "    </ul>\n",
       "  </li>\n",
       "  </ul>\n",
       "</li>\n",
       "</ul>\n"
      ],
      "text/plain": [
       "{('Holding', 'CUSIP'): <atoti.hierarchy.Hierarchy object at 0x13a462e40>, ('Holding', 'PortfolioTicker'): <atoti.hierarchy.Hierarchy object at 0x13a462180>, ('Holding', 'AsOfDate'): <atoti.hierarchy.Hierarchy object at 0x13a460260>}"
      ]
     },
     "execution_count": 11,
     "metadata": {
      "application/json": {
       "expanded": true,
       "root": "Dimensions"
      }
     },
     "output_type": "execute_result"
    }
   ],
   "source": [
    "h"
   ]
  },
  {
   "cell_type": "code",
   "execution_count": 13,
   "id": "6c8d9749-ada3-4969-b08f-ee1bd6ff20b1",
   "metadata": {},
   "outputs": [
    {
     "ename": "KeyError",
     "evalue": "'BenchmarkTicker'",
     "output_type": "error",
     "traceback": [
      "\u001b[0;31m---------------------------------------------------------------------------\u001b[0m",
      "\u001b[0;31mKeyError\u001b[0m                                  Traceback (most recent call last)",
      "Cell \u001b[0;32mIn[13], line 2\u001b[0m\n\u001b[1;32m      1\u001b[0m h[\u001b[38;5;124m\"\u001b[39m\u001b[38;5;124m_portfolio_id\u001b[39m\u001b[38;5;124m\"\u001b[39m]\u001b[38;5;241m.\u001b[39mvisible\u001b[38;5;241m=\u001b[39m\u001b[38;5;28;01mFalse\u001b[39;00m\n\u001b[0;32m----> 2\u001b[0m \u001b[43mh\u001b[49m\u001b[43m[\u001b[49m\u001b[38;5;124;43m\"\u001b[39;49m\u001b[38;5;124;43mBenchmarkTicker\u001b[39;49m\u001b[38;5;124;43m\"\u001b[39;49m\u001b[43m]\u001b[49m\u001b[38;5;241m.\u001b[39mvisible\u001b[38;5;241m=\u001b[39m\u001b[38;5;28;01mFalse\u001b[39;00m\n",
      "File \u001b[0;32m~/anaconda3/envs/atoti-0.8.11.4865/lib/python3.12/site-packages/pydantic/validate_call_decorator.py:58\u001b[0m, in \u001b[0;36mvalidate_call.<locals>.validate.<locals>.wrapper_function\u001b[0;34m(*args, **kwargs)\u001b[0m\n\u001b[1;32m     56\u001b[0m \u001b[38;5;129m@functools\u001b[39m\u001b[38;5;241m.\u001b[39mwraps(function)\n\u001b[1;32m     57\u001b[0m \u001b[38;5;28;01mdef\u001b[39;00m \u001b[38;5;21mwrapper_function\u001b[39m(\u001b[38;5;241m*\u001b[39margs, \u001b[38;5;241m*\u001b[39m\u001b[38;5;241m*\u001b[39mkwargs):\n\u001b[0;32m---> 58\u001b[0m     \u001b[38;5;28;01mreturn\u001b[39;00m \u001b[43mvalidate_call_wrapper\u001b[49m\u001b[43m(\u001b[49m\u001b[38;5;241;43m*\u001b[39;49m\u001b[43margs\u001b[49m\u001b[43m,\u001b[49m\u001b[43m \u001b[49m\u001b[38;5;241;43m*\u001b[39;49m\u001b[38;5;241;43m*\u001b[39;49m\u001b[43mkwargs\u001b[49m\u001b[43m)\u001b[49m\n",
      "File \u001b[0;32m~/anaconda3/envs/atoti-0.8.11.4865/lib/python3.12/site-packages/pydantic/_internal/_validate_call.py:81\u001b[0m, in \u001b[0;36mValidateCallWrapper.__call__\u001b[0;34m(self, *args, **kwargs)\u001b[0m\n\u001b[1;32m     80\u001b[0m \u001b[38;5;28;01mdef\u001b[39;00m \u001b[38;5;21m__call__\u001b[39m(\u001b[38;5;28mself\u001b[39m, \u001b[38;5;241m*\u001b[39margs: Any, \u001b[38;5;241m*\u001b[39m\u001b[38;5;241m*\u001b[39mkwargs: Any) \u001b[38;5;241m-\u001b[39m\u001b[38;5;241m>\u001b[39m Any:\n\u001b[0;32m---> 81\u001b[0m     res \u001b[38;5;241m=\u001b[39m \u001b[38;5;28;43mself\u001b[39;49m\u001b[38;5;241;43m.\u001b[39;49m\u001b[43m__pydantic_validator__\u001b[49m\u001b[38;5;241;43m.\u001b[39;49m\u001b[43mvalidate_python\u001b[49m\u001b[43m(\u001b[49m\u001b[43mpydantic_core\u001b[49m\u001b[38;5;241;43m.\u001b[39;49m\u001b[43mArgsKwargs\u001b[49m\u001b[43m(\u001b[49m\u001b[43margs\u001b[49m\u001b[43m,\u001b[49m\u001b[43m \u001b[49m\u001b[43mkwargs\u001b[49m\u001b[43m)\u001b[49m\u001b[43m)\u001b[49m\n\u001b[1;32m     82\u001b[0m     \u001b[38;5;28;01mif\u001b[39;00m \u001b[38;5;28mself\u001b[39m\u001b[38;5;241m.\u001b[39m__return_pydantic_validator__:\n\u001b[1;32m     83\u001b[0m         \u001b[38;5;28;01mreturn\u001b[39;00m \u001b[38;5;28mself\u001b[39m\u001b[38;5;241m.\u001b[39m__return_pydantic_validator__(res)\n",
      "File \u001b[0;32m~/anaconda3/envs/atoti-0.8.11.4865/lib/python3.12/site-packages/atoti/hierarchies.py:92\u001b[0m, in \u001b[0;36mHierarchies.__getitem__\u001b[0;34m(self, key)\u001b[0m\n\u001b[1;32m     90\u001b[0m (dimension_name, hierarchy_name) \u001b[38;5;241m=\u001b[39m \u001b[38;5;28mself\u001b[39m\u001b[38;5;241m.\u001b[39m_convert_key(key)\n\u001b[1;32m     91\u001b[0m \u001b[38;5;28;01mtry\u001b[39;00m:\n\u001b[0;32m---> 92\u001b[0m     hierarchy_argument \u001b[38;5;241m=\u001b[39m \u001b[38;5;28;43mself\u001b[39;49m\u001b[38;5;241;43m.\u001b[39;49m\u001b[43m_java_api\u001b[49m\u001b[38;5;241;43m.\u001b[39;49m\u001b[43mget_hierarchy\u001b[49m\u001b[43m(\u001b[49m\n\u001b[1;32m     93\u001b[0m \u001b[43m        \u001b[49m\u001b[43mhierarchy_name\u001b[49m\u001b[43m,\u001b[49m\n\u001b[1;32m     94\u001b[0m \u001b[43m        \u001b[49m\u001b[43mcube_name\u001b[49m\u001b[38;5;241;43m=\u001b[39;49m\u001b[38;5;28;43mself\u001b[39;49m\u001b[38;5;241;43m.\u001b[39;49m\u001b[43m_cube_name\u001b[49m\u001b[43m,\u001b[49m\n\u001b[1;32m     95\u001b[0m \u001b[43m        \u001b[49m\u001b[43mdimension_name\u001b[49m\u001b[38;5;241;43m=\u001b[39;49m\u001b[43mdimension_name\u001b[49m\u001b[43m,\u001b[49m\n\u001b[1;32m     96\u001b[0m \u001b[43m    \u001b[49m\u001b[43m)\u001b[49m\n\u001b[1;32m     97\u001b[0m \u001b[38;5;28;01mexcept\u001b[39;00m Py4JError \u001b[38;5;28;01mas\u001b[39;00m error:\n\u001b[1;32m     98\u001b[0m     \u001b[38;5;28;01mraise\u001b[39;00m \u001b[38;5;167;01mKeyError\u001b[39;00m(\u001b[38;5;28mstr\u001b[39m(error)) \u001b[38;5;28;01mfrom\u001b[39;00m \u001b[38;5;28;01mNone\u001b[39;00m\n",
      "File \u001b[0;32m~/anaconda3/envs/atoti-0.8.11.4865/lib/python3.12/site-packages/atoti/_java_api.py:1344\u001b[0m, in \u001b[0;36mJavaApi.get_hierarchy\u001b[0;34m(self, name, cube_name, dimension_name)\u001b[0m\n\u001b[1;32m   1340\u001b[0m java_hierarchy \u001b[38;5;241m=\u001b[39m \u001b[38;5;28mself\u001b[39m\u001b[38;5;241m.\u001b[39m_outside_transaction_api()\u001b[38;5;241m.\u001b[39mgetHierarchy(\n\u001b[1;32m   1341\u001b[0m     cube_name, dimension_name, name\n\u001b[1;32m   1342\u001b[0m )\n\u001b[1;32m   1343\u001b[0m \u001b[38;5;28;01mif\u001b[39;00m java_hierarchy\u001b[38;5;241m.\u001b[39misEmpty():\n\u001b[0;32m-> 1344\u001b[0m     \u001b[38;5;28;01mraise\u001b[39;00m \u001b[38;5;167;01mKeyError\u001b[39;00m(name)\n\u001b[1;32m   1345\u001b[0m \u001b[38;5;28;01mreturn\u001b[39;00m _convert_java_hierarchy_to_python_hierarchy_arguments(\n\u001b[1;32m   1346\u001b[0m     java_hierarchy\u001b[38;5;241m.\u001b[39morElseThrow()\n\u001b[1;32m   1347\u001b[0m )\n",
      "\u001b[0;31mKeyError\u001b[0m: 'BenchmarkTicker'"
     ]
    }
   ],
   "source": [
    "h[\"_portfolio_id\"].visible=False\n",
    "h[\"BenchmarkTicker\"].visible=False"
   ]
  },
  {
   "cell_type": "code",
   "execution_count": null,
   "id": "278b8881-2889-474a-b729-9446474bd63f",
   "metadata": {},
   "outputs": [],
   "source": [
    "h[\"_portfolio_id\"].slicing=True\n",
    "h[\"PortfolioTicker\"].slicing=True"
   ]
  },
  {
   "cell_type": "code",
   "execution_count": null,
   "id": "112286c0-7f0f-4894-b7ff-2154436b4670",
   "metadata": {},
   "outputs": [],
   "source": [
    "m[\"portfolio_mv\"] = tt.filter(m[\"mv.SUM\"], l[\"benchmark_id\"] == \"fake_por\")"
   ]
  },
  {
   "cell_type": "code",
   "execution_count": null,
   "id": "9f314723-19f1-4259-9281-7cc07fbfa57d",
   "metadata": {
    "atoti": {
     "widget": {
      "mapping": {
       "columns": [
        "ALL_MEASURES"
       ],
       "measures": [],
       "rows": [
        "[Benchmark].[PortfolioTicker].[PortfolioTicker]"
       ]
      },
      "query": {
       "mdx": "SELECT NON EMPTY Hierarchize(Descendants({[Benchmark].[PortfolioTicker].[ALL].[AllMember]}, 1, SELF_AND_BEFORE)) ON ROWS FROM [Holding] CELL PROPERTIES VALUE, FORMATTED_VALUE, BACK_COLOR, FORE_COLOR, FONT_FLAGS",
       "updateMode": "once"
      },
      "serverKey": "default",
      "widgetKey": "pivot-table"
     }
    }
   },
   "outputs": [],
   "source": [
    "session.widget"
   ]
  },
  {
   "cell_type": "code",
   "execution_count": null,
   "id": "9052123c-4a19-4e25-b19d-66a4527f4c61",
   "metadata": {},
   "outputs": [],
   "source": []
  }
 ],
 "metadata": {
  "kernelspec": {
   "display_name": "Python 3 (ipykernel)",
   "language": "python",
   "name": "python3"
  },
  "language_info": {
   "codemirror_mode": {
    "name": "ipython",
    "version": 3
   },
   "file_extension": ".py",
   "mimetype": "text/x-python",
   "name": "python",
   "nbconvert_exporter": "python",
   "pygments_lexer": "ipython3",
   "version": "3.12.2"
  }
 },
 "nbformat": 4,
 "nbformat_minor": 5
}
