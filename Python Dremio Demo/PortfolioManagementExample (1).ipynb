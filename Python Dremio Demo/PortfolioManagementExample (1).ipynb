{
 "cells": [
  {
   "cell_type": "code",
   "execution_count": 1,
   "id": "888c24b9-581f-464a-bda0-4bbaa0ebf396",
   "metadata": {},
   "outputs": [],
   "source": [
    "import atoti as tt\n",
    "import pandas as pd"
   ]
  },
  {
   "cell_type": "code",
   "execution_count": 2,
   "id": "3af5b782-87a0-46f9-8ee8-eb8e88409b95",
   "metadata": {},
   "outputs": [
    {
     "data": {
      "text/html": [
       "<div>\n",
       "<style scoped>\n",
       "    .dataframe tbody tr th:only-of-type {\n",
       "        vertical-align: middle;\n",
       "    }\n",
       "\n",
       "    .dataframe tbody tr th {\n",
       "        vertical-align: top;\n",
       "    }\n",
       "\n",
       "    .dataframe thead th {\n",
       "        text-align: right;\n",
       "    }\n",
       "</style>\n",
       "<table border=\"1\" class=\"dataframe\">\n",
       "  <thead>\n",
       "    <tr style=\"text-align: right;\">\n",
       "      <th></th>\n",
       "      <th>benchmark_id</th>\n",
       "      <th>cusip</th>\n",
       "      <th>mv</th>\n",
       "    </tr>\n",
       "  </thead>\n",
       "  <tbody>\n",
       "    <tr>\n",
       "      <th>0</th>\n",
       "      <td>b1</td>\n",
       "      <td>pos1</td>\n",
       "      <td>10.0</td>\n",
       "    </tr>\n",
       "    <tr>\n",
       "      <th>1</th>\n",
       "      <td>b1</td>\n",
       "      <td>pos2</td>\n",
       "      <td>20.0</td>\n",
       "    </tr>\n",
       "    <tr>\n",
       "      <th>2</th>\n",
       "      <td>b2</td>\n",
       "      <td>pos2</td>\n",
       "      <td>30.0</td>\n",
       "    </tr>\n",
       "    <tr>\n",
       "      <th>3</th>\n",
       "      <td>b3</td>\n",
       "      <td>pos3</td>\n",
       "      <td>40.0</td>\n",
       "    </tr>\n",
       "  </tbody>\n",
       "</table>\n",
       "</div>"
      ],
      "text/plain": [
       "  benchmark_id cusip    mv\n",
       "0           b1  pos1  10.0\n",
       "1           b1  pos2  20.0\n",
       "2           b2  pos2  30.0\n",
       "3           b3  pos3  40.0"
      ]
     },
     "execution_count": 2,
     "metadata": {},
     "output_type": "execute_result"
    }
   ],
   "source": [
    "benchmark_df = pd.DataFrame({\n",
    "    \"benchmark_id\": [\"b1\", \"b1\", \"b2\", \"b3\"],\n",
    "    \"cusip\": [\"pos1\", \"pos2\", \"pos2\", \"pos3\"],\n",
    "    \"mv\": [10.0, 20.0, 30.0, 40.0]\n",
    "})\n",
    "benchmark_df"
   ]
  },
  {
   "cell_type": "code",
   "execution_count": 3,
   "id": "e1319411-a25a-4006-8d8c-942440459b69",
   "metadata": {
    "scrolled": true
   },
   "outputs": [
    {
     "data": {
      "text/html": [
       "<div>\n",
       "<style scoped>\n",
       "    .dataframe tbody tr th:only-of-type {\n",
       "        vertical-align: middle;\n",
       "    }\n",
       "\n",
       "    .dataframe tbody tr th {\n",
       "        vertical-align: top;\n",
       "    }\n",
       "\n",
       "    .dataframe thead th {\n",
       "        text-align: right;\n",
       "    }\n",
       "</style>\n",
       "<table border=\"1\" class=\"dataframe\">\n",
       "  <thead>\n",
       "    <tr style=\"text-align: right;\">\n",
       "      <th></th>\n",
       "      <th>portfolio_id</th>\n",
       "      <th>cusip</th>\n",
       "      <th>mv</th>\n",
       "    </tr>\n",
       "  </thead>\n",
       "  <tbody>\n",
       "    <tr>\n",
       "      <th>0</th>\n",
       "      <td>p1</td>\n",
       "      <td>pos1</td>\n",
       "      <td>50.0</td>\n",
       "    </tr>\n",
       "    <tr>\n",
       "      <th>1</th>\n",
       "      <td>p2</td>\n",
       "      <td>pos2</td>\n",
       "      <td>60.0</td>\n",
       "    </tr>\n",
       "    <tr>\n",
       "      <th>2</th>\n",
       "      <td>p3</td>\n",
       "      <td>pos3</td>\n",
       "      <td>70.0</td>\n",
       "    </tr>\n",
       "    <tr>\n",
       "      <th>3</th>\n",
       "      <td>p4</td>\n",
       "      <td>pos4</td>\n",
       "      <td>80.0</td>\n",
       "    </tr>\n",
       "  </tbody>\n",
       "</table>\n",
       "</div>"
      ],
      "text/plain": [
       "  portfolio_id cusip    mv\n",
       "0           p1  pos1  50.0\n",
       "1           p2  pos2  60.0\n",
       "2           p3  pos3  70.0\n",
       "3           p4  pos4  80.0"
      ]
     },
     "execution_count": 3,
     "metadata": {},
     "output_type": "execute_result"
    }
   ],
   "source": [
    "portfolio_df = pd.DataFrame({\n",
    "    \"portfolio_id\": [\"p1\", \"p2\", \"p3\", \"p4\"],\n",
    "    \"cusip\": [\"pos1\", \"pos2\", \"pos3\", \"pos4\"],\n",
    "    \"mv\": [50.0, 60.0, 70.0, 80.0]\n",
    "})\n",
    "portfolio_df"
   ]
  },
  {
   "cell_type": "markdown",
   "id": "f7a4c0a5-58a3-43cc-a4a3-104d5374ee30",
   "metadata": {},
   "source": [
    "# Outer Approach"
   ]
  },
  {
   "cell_type": "code",
   "execution_count": 4,
   "id": "eebe9e94-aaef-42cf-a567-f1dcaf0cd683",
   "metadata": {},
   "outputs": [],
   "source": [
    "outer_join_session = tt.Session(name=\"outer\")"
   ]
  },
  {
   "cell_type": "code",
   "execution_count": 5,
   "id": "3ed4eeab-ccfb-4c74-ae80-af36c2b63fa1",
   "metadata": {},
   "outputs": [
    {
     "data": {
      "text/html": [
       "<div>\n",
       "<style scoped>\n",
       "    .dataframe tbody tr th:only-of-type {\n",
       "        vertical-align: middle;\n",
       "    }\n",
       "\n",
       "    .dataframe tbody tr th {\n",
       "        vertical-align: top;\n",
       "    }\n",
       "\n",
       "    .dataframe thead th {\n",
       "        text-align: right;\n",
       "    }\n",
       "</style>\n",
       "<table border=\"1\" class=\"dataframe\">\n",
       "  <thead>\n",
       "    <tr style=\"text-align: right;\">\n",
       "      <th></th>\n",
       "      <th>benchmark_id</th>\n",
       "      <th>cusip</th>\n",
       "      <th>portfolio_id</th>\n",
       "    </tr>\n",
       "  </thead>\n",
       "  <tbody>\n",
       "    <tr>\n",
       "      <th>0</th>\n",
       "      <td>b1</td>\n",
       "      <td>pos1</td>\n",
       "      <td>p1</td>\n",
       "    </tr>\n",
       "    <tr>\n",
       "      <th>1</th>\n",
       "      <td>b1</td>\n",
       "      <td>pos2</td>\n",
       "      <td>p2</td>\n",
       "    </tr>\n",
       "    <tr>\n",
       "      <th>2</th>\n",
       "      <td>b2</td>\n",
       "      <td>pos2</td>\n",
       "      <td>p2</td>\n",
       "    </tr>\n",
       "    <tr>\n",
       "      <th>3</th>\n",
       "      <td>b3</td>\n",
       "      <td>pos3</td>\n",
       "      <td>p3</td>\n",
       "    </tr>\n",
       "    <tr>\n",
       "      <th>4</th>\n",
       "      <td>NaN</td>\n",
       "      <td>pos4</td>\n",
       "      <td>p4</td>\n",
       "    </tr>\n",
       "  </tbody>\n",
       "</table>\n",
       "</div>"
      ],
      "text/plain": [
       "  benchmark_id cusip portfolio_id\n",
       "0           b1  pos1           p1\n",
       "1           b1  pos2           p2\n",
       "2           b2  pos2           p2\n",
       "3           b3  pos3           p3\n",
       "4          NaN  pos4           p4"
      ]
     },
     "execution_count": 5,
     "metadata": {},
     "output_type": "execute_result"
    }
   ],
   "source": [
    "outer_df = benchmark_df[[\"benchmark_id\", \"cusip\"]].merge(portfolio_df[[\"portfolio_id\", \"cusip\"]], how=\"outer\", left_on=[\"cusip\"], right_on=[\"cusip\"])\n",
    "outer_df"
   ]
  },
  {
   "cell_type": "code",
   "execution_count": 6,
   "id": "5fc2ebdb-2774-4dc0-b0ea-1e9c6bafdf9d",
   "metadata": {},
   "outputs": [
    {
     "data": {
      "text/html": [
       "<div>\n",
       "<style scoped>\n",
       "    .dataframe tbody tr th:only-of-type {\n",
       "        vertical-align: middle;\n",
       "    }\n",
       "\n",
       "    .dataframe tbody tr th {\n",
       "        vertical-align: top;\n",
       "    }\n",
       "\n",
       "    .dataframe thead th {\n",
       "        text-align: right;\n",
       "    }\n",
       "</style>\n",
       "<table border=\"1\" class=\"dataframe\">\n",
       "  <thead>\n",
       "    <tr style=\"text-align: right;\">\n",
       "      <th></th>\n",
       "      <th></th>\n",
       "      <th></th>\n",
       "    </tr>\n",
       "    <tr>\n",
       "      <th>benchmark_id</th>\n",
       "      <th>cusip</th>\n",
       "      <th>portfolio_id</th>\n",
       "    </tr>\n",
       "  </thead>\n",
       "  <tbody>\n",
       "    <tr>\n",
       "      <th rowspan=\"2\" valign=\"top\">b1</th>\n",
       "      <th>pos1</th>\n",
       "      <th>p1</th>\n",
       "    </tr>\n",
       "    <tr>\n",
       "      <th>pos2</th>\n",
       "      <th>p2</th>\n",
       "    </tr>\n",
       "    <tr>\n",
       "      <th>b2</th>\n",
       "      <th>pos2</th>\n",
       "      <th>p2</th>\n",
       "    </tr>\n",
       "    <tr>\n",
       "      <th>b3</th>\n",
       "      <th>pos3</th>\n",
       "      <th>p3</th>\n",
       "    </tr>\n",
       "    <tr>\n",
       "      <th>N/A</th>\n",
       "      <th>pos4</th>\n",
       "      <th>p4</th>\n",
       "    </tr>\n",
       "  </tbody>\n",
       "</table>\n",
       "</div>"
      ],
      "text/plain": [
       "Empty DataFrame\n",
       "Columns: []\n",
       "Index: [(b1, pos1, p1), (b1, pos2, p2), (b2, pos2, p2), (b3, pos3, p3), (N/A, pos4, p4)]"
      ]
     },
     "execution_count": 6,
     "metadata": {},
     "output_type": "execute_result"
    }
   ],
   "source": [
    "outer_table = outer_join_session.read_pandas(\n",
    "    outer_df, \n",
    "    table_name=\"outer\", \n",
    "    keys=[\"portfolio_id\", \"benchmark_id\", \"cusip\"]\n",
    ")\n",
    "outer_table.head()"
   ]
  },
  {
   "cell_type": "code",
   "execution_count": 7,
   "id": "2676ff85-bbad-45ce-a411-e7fe0998e7f5",
   "metadata": {},
   "outputs": [],
   "source": [
    "benchmark_table = outer_join_session.read_pandas(benchmark_df, table_name=\"benchmarks\", keys=[\"cusip\", \"benchmark_id\"])\n",
    "portfolio_table = outer_join_session.read_pandas(portfolio_df, table_name=\"portfolio\", keys=[\"cusip\", \"portfolio_id\"])"
   ]
  },
  {
   "cell_type": "code",
   "execution_count": 8,
   "id": "21c3f4ca-813f-4edc-af7c-d0ef9ad4d2e7",
   "metadata": {},
   "outputs": [],
   "source": [
    "outer_table.join(benchmark_table)\n",
    "outer_table.join(portfolio_table)"
   ]
  },
  {
   "cell_type": "code",
   "execution_count": 9,
   "id": "1334d1ad-c87e-4c89-b6df-e06b9705689a",
   "metadata": {},
   "outputs": [],
   "source": [
    "cube = outer_join_session.create_cube(outer_table)\n",
    "cube.measures[\"mv_portfolio.SUM\"] = tt.agg.sum(portfolio_table[\"mv\"])\n",
    "cube.measures[\"mv_benchmark.SUM\"] = tt.agg.sum(benchmark_table[\"mv\"])\n",
    "cube.measures[\"Performance %\"] = cube.measures[\"mv_portfolio.SUM\"] / cube.measures[\"mv_benchmark.SUM\"]\n",
    "cube.measures[\"Performance abs\"] = cube.measures[\"mv_portfolio.SUM\"] - cube.measures[\"mv_benchmark.SUM\"]"
   ]
  },
  {
   "cell_type": "code",
   "execution_count": 10,
   "id": "3134ab3a-9a7b-44f3-8159-7ddadff625bc",
   "metadata": {},
   "outputs": [
    {
     "data": {
      "image/svg+xml": [
       "<svg xmlns=\"http://www.w3.org/2000/svg\" xmlns:xlink=\"http://www.w3.org/1999/xlink\" width=\"575px\" height=\"244px\" viewBox=\"0.00 0.00 574.75 244.00\">\n",
       "<g id=\"graph0\" class=\"graph\" transform=\"scale(1.0 1.0) rotate(0) translate(4 240)\">\n",
       "<title>Datastore schema</title>\n",
       "<polygon fill=\"white\" stroke=\"none\" points=\"-4,4 -4,-240 570.75,-240 570.75,4 -4,4\"/>\n",
       "<!-- portfolio -->\n",
       "<g id=\"node1\" class=\"node\">\n",
       "<title>portfolio</title>\n",
       "<text text-anchor=\"start\" x=\"451.5\" y=\"-214.65\" font-family=\"-apple-system, BlinkMacSystemFont, 'Segoe UI', Helvetica, Arial, sans-serif, 'Apple Color Emoji', 'Segoe UI Emoji', 'Segoe UI Symbol'\" font-weight=\"bold\" font-size=\"13.00\">portfolio</text>\n",
       "<polygon fill=\"#f5f5f5\" stroke=\"none\" points=\"403.25,-182 403.25,-207 433.25,-207 433.25,-182 403.25,-182\"/>\n",
       "<text text-anchor=\"start\" x=\"408.12\" y=\"-190.28\" font-family=\"-apple-system, BlinkMacSystemFont, 'Segoe UI', Helvetica, Arial, sans-serif, 'Apple Color Emoji', 'Segoe UI Emoji', 'Segoe UI Symbol'\" font-weight=\"bold\" font-size=\"13.00\">key</text>\n",
       "<polygon fill=\"#f5f5f5\" stroke=\"none\" points=\"433.25,-182 433.25,-207 503.25,-207 503.25,-182 433.25,-182\"/>\n",
       "<text text-anchor=\"start\" x=\"438.25\" y=\"-189.28\" font-family=\"-apple-system, BlinkMacSystemFont, 'Segoe UI', Helvetica, Arial, sans-serif, 'Apple Color Emoji', 'Segoe UI Emoji', 'Segoe UI Symbol'\" font-size=\"13.00\">portfolio_id</text>\n",
       "<polygon fill=\"#f5f5f5\" stroke=\"none\" points=\"503.25,-182 503.25,-207 549.25,-207 549.25,-182 503.25,-182\"/>\n",
       "<text text-anchor=\"start\" x=\"513.5\" y=\"-190.65\" font-family=\"-apple-system, BlinkMacSystemFont, 'Segoe UI', Helvetica, Arial, sans-serif, 'Apple Color Emoji', 'Segoe UI Emoji', 'Segoe UI Symbol'\" font-style=\"italic\" font-size=\"13.00\">string</text>\n",
       "<polygon fill=\"#ffffff\" stroke=\"none\" points=\"403.25,-157 403.25,-182 433.25,-182 433.25,-157 403.25,-157\"/>\n",
       "<text text-anchor=\"start\" x=\"408.12\" y=\"-165.28\" font-family=\"-apple-system, BlinkMacSystemFont, 'Segoe UI', Helvetica, Arial, sans-serif, 'Apple Color Emoji', 'Segoe UI Emoji', 'Segoe UI Symbol'\" font-weight=\"bold\" font-size=\"13.00\">key</text>\n",
       "<polygon fill=\"#ffffff\" stroke=\"none\" points=\"433.25,-157 433.25,-182 503.25,-182 503.25,-157 433.25,-157\"/>\n",
       "<text text-anchor=\"start\" x=\"438.25\" y=\"-164.28\" font-family=\"-apple-system, BlinkMacSystemFont, 'Segoe UI', Helvetica, Arial, sans-serif, 'Apple Color Emoji', 'Segoe UI Emoji', 'Segoe UI Symbol'\" font-size=\"13.00\">cusip</text>\n",
       "<polygon fill=\"#ffffff\" stroke=\"none\" points=\"503.25,-157 503.25,-182 549.25,-182 549.25,-157 503.25,-157\"/>\n",
       "<text text-anchor=\"start\" x=\"513.5\" y=\"-165.65\" font-family=\"-apple-system, BlinkMacSystemFont, 'Segoe UI', Helvetica, Arial, sans-serif, 'Apple Color Emoji', 'Segoe UI Emoji', 'Segoe UI Symbol'\" font-style=\"italic\" font-size=\"13.00\">string</text>\n",
       "<polygon fill=\"#f5f5f5\" stroke=\"none\" points=\"403.25,-132 403.25,-157 433.25,-157 433.25,-132 403.25,-132\"/>\n",
       "<polygon fill=\"#f5f5f5\" stroke=\"none\" points=\"433.25,-132 433.25,-157 503.25,-157 503.25,-132 433.25,-132\"/>\n",
       "<text text-anchor=\"start\" x=\"438.25\" y=\"-139.28\" font-family=\"-apple-system, BlinkMacSystemFont, 'Segoe UI', Helvetica, Arial, sans-serif, 'Apple Color Emoji', 'Segoe UI Emoji', 'Segoe UI Symbol'\" font-size=\"13.00\">mv</text>\n",
       "<polygon fill=\"#f5f5f5\" stroke=\"none\" points=\"503.25,-132 503.25,-157 549.25,-157 549.25,-132 503.25,-132\"/>\n",
       "<text text-anchor=\"start\" x=\"507.88\" y=\"-140.65\" font-family=\"-apple-system, BlinkMacSystemFont, 'Segoe UI', Helvetica, Arial, sans-serif, 'Apple Color Emoji', 'Segoe UI Emoji', 'Segoe UI Symbol'\" font-style=\"italic\" font-size=\"13.00\">double</text>\n",
       "<polygon fill=\"none\" stroke=\"black\" points=\"402.25,-131 402.25,-232 550.25,-232 550.25,-131 402.25,-131\"/>\n",
       "</g>\n",
       "<!-- outer -->\n",
       "<g id=\"node2\" class=\"node\">\n",
       "<title>outer</title>\n",
       "<text text-anchor=\"start\" x=\"71.75\" y=\"-163.15\" font-family=\"-apple-system, BlinkMacSystemFont, 'Segoe UI', Helvetica, Arial, sans-serif, 'Apple Color Emoji', 'Segoe UI Emoji', 'Segoe UI Symbol'\" font-weight=\"bold\" font-size=\"13.00\">outer</text>\n",
       "<text text-anchor=\"start\" x=\"49.62\" y=\"-137.15\" font-family=\"-apple-system, BlinkMacSystemFont, 'Segoe UI', Helvetica, Arial, sans-serif, 'Apple Color Emoji', 'Segoe UI Emoji', 'Segoe UI Symbol'\" font-size=\"13.00\">base of: outer</text>\n",
       "<polygon fill=\"#f5f5f5\" stroke=\"none\" points=\"9,-105.5 9,-130.5 39,-130.5 39,-105.5 9,-105.5\"/>\n",
       "<text text-anchor=\"start\" x=\"13.88\" y=\"-113.78\" font-family=\"-apple-system, BlinkMacSystemFont, 'Segoe UI', Helvetica, Arial, sans-serif, 'Apple Color Emoji', 'Segoe UI Emoji', 'Segoe UI Symbol'\" font-weight=\"bold\" font-size=\"13.00\">key</text>\n",
       "<polygon fill=\"#f5f5f5\" stroke=\"none\" points=\"39,-105.5 39,-130.5 126,-130.5 126,-105.5 39,-105.5\"/>\n",
       "<text text-anchor=\"start\" x=\"43.88\" y=\"-112.78\" font-family=\"-apple-system, BlinkMacSystemFont, 'Segoe UI', Helvetica, Arial, sans-serif, 'Apple Color Emoji', 'Segoe UI Emoji', 'Segoe UI Symbol'\" font-size=\"13.00\">benchmark_id</text>\n",
       "<polygon fill=\"#f5f5f5\" stroke=\"none\" points=\"126,-105.5 126,-130.5 166,-130.5 166,-105.5 126,-105.5\"/>\n",
       "<text text-anchor=\"start\" x=\"130.62\" y=\"-114.15\" font-family=\"-apple-system, BlinkMacSystemFont, 'Segoe UI', Helvetica, Arial, sans-serif, 'Apple Color Emoji', 'Segoe UI Emoji', 'Segoe UI Symbol'\" font-style=\"italic\" font-size=\"13.00\">string</text>\n",
       "<polygon fill=\"#ffffff\" stroke=\"none\" points=\"9,-80.5 9,-105.5 39,-105.5 39,-80.5 9,-80.5\"/>\n",
       "<text text-anchor=\"start\" x=\"13.88\" y=\"-88.78\" font-family=\"-apple-system, BlinkMacSystemFont, 'Segoe UI', Helvetica, Arial, sans-serif, 'Apple Color Emoji', 'Segoe UI Emoji', 'Segoe UI Symbol'\" font-weight=\"bold\" font-size=\"13.00\">key</text>\n",
       "<polygon fill=\"#ffffff\" stroke=\"none\" points=\"39,-80.5 39,-105.5 126,-105.5 126,-80.5 39,-80.5\"/>\n",
       "<text text-anchor=\"start\" x=\"44\" y=\"-87.78\" font-family=\"-apple-system, BlinkMacSystemFont, 'Segoe UI', Helvetica, Arial, sans-serif, 'Apple Color Emoji', 'Segoe UI Emoji', 'Segoe UI Symbol'\" font-size=\"13.00\">cusip</text>\n",
       "<polygon fill=\"#ffffff\" stroke=\"none\" points=\"126,-80.5 126,-105.5 166,-105.5 166,-80.5 126,-80.5\"/>\n",
       "<text text-anchor=\"start\" x=\"130.62\" y=\"-89.15\" font-family=\"-apple-system, BlinkMacSystemFont, 'Segoe UI', Helvetica, Arial, sans-serif, 'Apple Color Emoji', 'Segoe UI Emoji', 'Segoe UI Symbol'\" font-style=\"italic\" font-size=\"13.00\">string</text>\n",
       "<polygon fill=\"#f5f5f5\" stroke=\"none\" points=\"9,-55.5 9,-80.5 39,-80.5 39,-55.5 9,-55.5\"/>\n",
       "<text text-anchor=\"start\" x=\"13.88\" y=\"-63.77\" font-family=\"-apple-system, BlinkMacSystemFont, 'Segoe UI', Helvetica, Arial, sans-serif, 'Apple Color Emoji', 'Segoe UI Emoji', 'Segoe UI Symbol'\" font-weight=\"bold\" font-size=\"13.00\">key</text>\n",
       "<polygon fill=\"#f5f5f5\" stroke=\"none\" points=\"39,-55.5 39,-80.5 126,-80.5 126,-55.5 39,-55.5\"/>\n",
       "<text text-anchor=\"start\" x=\"44\" y=\"-62.77\" font-family=\"-apple-system, BlinkMacSystemFont, 'Segoe UI', Helvetica, Arial, sans-serif, 'Apple Color Emoji', 'Segoe UI Emoji', 'Segoe UI Symbol'\" font-size=\"13.00\">portfolio_id</text>\n",
       "<polygon fill=\"#f5f5f5\" stroke=\"none\" points=\"126,-55.5 126,-80.5 166,-80.5 166,-55.5 126,-55.5\"/>\n",
       "<text text-anchor=\"start\" x=\"130.62\" y=\"-64.15\" font-family=\"-apple-system, BlinkMacSystemFont, 'Segoe UI', Helvetica, Arial, sans-serif, 'Apple Color Emoji', 'Segoe UI Emoji', 'Segoe UI Symbol'\" font-style=\"italic\" font-size=\"13.00\">string</text>\n",
       "<polygon fill=\"none\" stroke=\"black\" points=\"8,-54.5 8,-180.5 167,-180.5 167,-54.5 8,-54.5\"/>\n",
       "</g>\n",
       "<!-- outer&#45;&gt;portfolio -->\n",
       "<g id=\"edge2\" class=\"edge\">\n",
       "<title>outer-&gt;portfolio</title>\n",
       "<path fill=\"none\" stroke=\"black\" d=\"M174.81,-131.78C236.77,-142.04 320.13,-155.83 383.33,-166.29\"/>\n",
       "<polygon fill=\"black\" stroke=\"black\" points=\"382.55,-169.71 392.99,-167.89 383.7,-162.8 382.55,-169.71\"/>\n",
       "<text text-anchor=\"middle\" x=\"280.38\" y=\"-178.65\" font-family=\"-apple-system, BlinkMacSystemFont, 'Segoe UI', Helvetica, Arial, sans-serif, 'Apple Color Emoji', 'Segoe UI Emoji', 'Segoe UI Symbol'\" font-size=\"13.00\">cusip → cusip</text>\n",
       "<text text-anchor=\"middle\" x=\"280.38\" y=\"-164.4\" font-family=\"-apple-system, BlinkMacSystemFont, 'Segoe UI', Helvetica, Arial, sans-serif, 'Apple Color Emoji', 'Segoe UI Emoji', 'Segoe UI Symbol'\" font-size=\"13.00\">portfolio_id → portfolio_id</text>\n",
       "</g>\n",
       "<!-- benchmarks -->\n",
       "<g id=\"node3\" class=\"node\">\n",
       "<title>benchmarks</title>\n",
       "<text text-anchor=\"start\" x=\"440.25\" y=\"-87.65\" font-family=\"-apple-system, BlinkMacSystemFont, 'Segoe UI', Helvetica, Arial, sans-serif, 'Apple Color Emoji', 'Segoe UI Emoji', 'Segoe UI Symbol'\" font-weight=\"bold\" font-size=\"13.00\">benchmarks</text>\n",
       "<polygon fill=\"#f5f5f5\" stroke=\"none\" points=\"394.75,-55 394.75,-80 424.75,-80 424.75,-55 394.75,-55\"/>\n",
       "<text text-anchor=\"start\" x=\"399.62\" y=\"-63.27\" font-family=\"-apple-system, BlinkMacSystemFont, 'Segoe UI', Helvetica, Arial, sans-serif, 'Apple Color Emoji', 'Segoe UI Emoji', 'Segoe UI Symbol'\" font-weight=\"bold\" font-size=\"13.00\">key</text>\n",
       "<polygon fill=\"#f5f5f5\" stroke=\"none\" points=\"424.75,-55 424.75,-80 511.75,-80 511.75,-55 424.75,-55\"/>\n",
       "<text text-anchor=\"start\" x=\"429.62\" y=\"-62.27\" font-family=\"-apple-system, BlinkMacSystemFont, 'Segoe UI', Helvetica, Arial, sans-serif, 'Apple Color Emoji', 'Segoe UI Emoji', 'Segoe UI Symbol'\" font-size=\"13.00\">benchmark_id</text>\n",
       "<polygon fill=\"#f5f5f5\" stroke=\"none\" points=\"511.75,-55 511.75,-80 557.75,-80 557.75,-55 511.75,-55\"/>\n",
       "<text text-anchor=\"start\" x=\"522\" y=\"-63.65\" font-family=\"-apple-system, BlinkMacSystemFont, 'Segoe UI', Helvetica, Arial, sans-serif, 'Apple Color Emoji', 'Segoe UI Emoji', 'Segoe UI Symbol'\" font-style=\"italic\" font-size=\"13.00\">string</text>\n",
       "<polygon fill=\"#ffffff\" stroke=\"none\" points=\"394.75,-30 394.75,-55 424.75,-55 424.75,-30 394.75,-30\"/>\n",
       "<text text-anchor=\"start\" x=\"399.62\" y=\"-38.27\" font-family=\"-apple-system, BlinkMacSystemFont, 'Segoe UI', Helvetica, Arial, sans-serif, 'Apple Color Emoji', 'Segoe UI Emoji', 'Segoe UI Symbol'\" font-weight=\"bold\" font-size=\"13.00\">key</text>\n",
       "<polygon fill=\"#ffffff\" stroke=\"none\" points=\"424.75,-30 424.75,-55 511.75,-55 511.75,-30 424.75,-30\"/>\n",
       "<text text-anchor=\"start\" x=\"429.75\" y=\"-37.27\" font-family=\"-apple-system, BlinkMacSystemFont, 'Segoe UI', Helvetica, Arial, sans-serif, 'Apple Color Emoji', 'Segoe UI Emoji', 'Segoe UI Symbol'\" font-size=\"13.00\">cusip</text>\n",
       "<polygon fill=\"#ffffff\" stroke=\"none\" points=\"511.75,-30 511.75,-55 557.75,-55 557.75,-30 511.75,-30\"/>\n",
       "<text text-anchor=\"start\" x=\"522\" y=\"-38.65\" font-family=\"-apple-system, BlinkMacSystemFont, 'Segoe UI', Helvetica, Arial, sans-serif, 'Apple Color Emoji', 'Segoe UI Emoji', 'Segoe UI Symbol'\" font-style=\"italic\" font-size=\"13.00\">string</text>\n",
       "<polygon fill=\"#f5f5f5\" stroke=\"none\" points=\"394.75,-5 394.75,-30 424.75,-30 424.75,-5 394.75,-5\"/>\n",
       "<polygon fill=\"#f5f5f5\" stroke=\"none\" points=\"424.75,-5 424.75,-30 511.75,-30 511.75,-5 424.75,-5\"/>\n",
       "<text text-anchor=\"start\" x=\"429.75\" y=\"-12.28\" font-family=\"-apple-system, BlinkMacSystemFont, 'Segoe UI', Helvetica, Arial, sans-serif, 'Apple Color Emoji', 'Segoe UI Emoji', 'Segoe UI Symbol'\" font-size=\"13.00\">mv</text>\n",
       "<polygon fill=\"#f5f5f5\" stroke=\"none\" points=\"511.75,-5 511.75,-30 557.75,-30 557.75,-5 511.75,-5\"/>\n",
       "<text text-anchor=\"start\" x=\"516.38\" y=\"-13.65\" font-family=\"-apple-system, BlinkMacSystemFont, 'Segoe UI', Helvetica, Arial, sans-serif, 'Apple Color Emoji', 'Segoe UI Emoji', 'Segoe UI Symbol'\" font-style=\"italic\" font-size=\"13.00\">double</text>\n",
       "<polygon fill=\"none\" stroke=\"black\" points=\"393.75,-4 393.75,-105 558.75,-105 558.75,-4 393.75,-4\"/>\n",
       "</g>\n",
       "<!-- outer&#45;&gt;benchmarks -->\n",
       "<g id=\"edge1\" class=\"edge\">\n",
       "<title>outer-&gt;benchmarks</title>\n",
       "<path fill=\"none\" stroke=\"black\" d=\"M174.81,-103.44C234.04,-93.79 312.83,-80.96 374.86,-70.85\"/>\n",
       "<polygon fill=\"black\" stroke=\"black\" points=\"375.04,-74.37 384.35,-69.31 373.92,-67.46 375.04,-74.37\"/>\n",
       "<text text-anchor=\"middle\" x=\"280.38\" y=\"-115.65\" font-family=\"-apple-system, BlinkMacSystemFont, 'Segoe UI', Helvetica, Arial, sans-serif, 'Apple Color Emoji', 'Segoe UI Emoji', 'Segoe UI Symbol'\" font-size=\"13.00\">benchmark_id → benchmark_id</text>\n",
       "<text text-anchor=\"middle\" x=\"280.38\" y=\"-101.4\" font-family=\"-apple-system, BlinkMacSystemFont, 'Segoe UI', Helvetica, Arial, sans-serif, 'Apple Color Emoji', 'Segoe UI Emoji', 'Segoe UI Symbol'\" font-size=\"13.00\">cusip → cusip</text>\n",
       "</g>\n",
       "</g>\n",
       "</svg>"
      ],
      "text/plain": [
       "<IPython.core.display.SVG object>"
      ]
     },
     "execution_count": 10,
     "metadata": {},
     "output_type": "execute_result"
    }
   ],
   "source": [
    "outer_join_session.tables.schema"
   ]
  },
  {
   "cell_type": "code",
   "execution_count": 1,
   "id": "aa3b1be1-dadb-446d-9695-7060e6afa8c6",
   "metadata": {
    "atoti": {
     "widget": {
      "filters": [
       {
        "dimensionName": "outer",
        "hierarchyName": "portfolio_id",
        "isExclusionFilter": false,
        "members": [
         [
          "AllMember",
          "p1"
         ]
        ],
        "type": "members"
       },
       {
        "dimensionName": "outer",
        "hierarchyName": "benchmark_id",
        "isExclusionFilter": false,
        "members": [
         [
          "AllMember",
          "b1"
         ]
        ],
        "type": "members"
       }
      ],
      "mapping": {
       "columns": [
        "ALL_MEASURES"
       ],
       "measures": [
        "[Measures].[Performance %]",
        "[Measures].[Performance abs]"
       ],
       "rows": [
        "[outer].[cusip].[cusip]"
       ]
      },
      "query": {
       "mdx": "SELECT NON EMPTY {[Measures].[Performance %], [Measures].[Performance abs]} ON COLUMNS, NON EMPTY Hierarchize(Descendants({[outer].[cusip].[ALL].[AllMember]}, 1, SELF_AND_BEFORE)) ON ROWS FROM [outer] CELL PROPERTIES VALUE, FORMATTED_VALUE, BACK_COLOR, FORE_COLOR, FONT_FLAGS",
       "updateMode": "once"
      },
      "serverKey": "default",
      "widgetKey": "pivot-table"
     }
    }
   },
   "outputs": [
    {
     "ename": "NameError",
     "evalue": "name 'tt' is not defined",
     "output_type": "error",
     "traceback": [
      "\u001b[0;31m---------------------------------------------------------------------------\u001b[0m",
      "\u001b[0;31mNameError\u001b[0m                                 Traceback (most recent call last)",
      "Cell \u001b[0;32mIn[1], line 1\u001b[0m\n\u001b[0;32m----> 1\u001b[0m m[\u001b[38;5;124m\"\u001b[39m\u001b[38;5;124mES\u001b[39m\u001b[38;5;124m\"\u001b[39m] \u001b[38;5;241m=\u001b[39m \u001b[43mtt\u001b[49m\u001b[38;5;241m.\u001b[39marray\u001b[38;5;241m.\u001b[39mmean(tt\u001b[38;5;241m.\u001b[39marray\u001b[38;5;241m.\u001b[39mn_lowest(m[\u001b[38;5;124m\"\u001b[39m\u001b[38;5;124mPNL_VECTOR\u001b[39m\u001b[38;5;124m\"\u001b[39m], n\u001b[38;5;241m=\u001b[39m\u001b[38;5;241m12\u001b[39m))\n",
      "\u001b[0;31mNameError\u001b[0m: name 'tt' is not defined"
     ]
    }
   ],
   "source": [
    "outer_join_session.widget"
   ]
  },
  {
   "cell_type": "markdown",
   "id": "401523af-65ac-4e72-90d6-9f65bdd02fbb",
   "metadata": {},
   "source": [
    "# Same Table Approach"
   ]
  },
  {
   "cell_type": "code",
   "execution_count": 12,
   "id": "14e14f5f-c09b-4f72-9806-cc8562255eda",
   "metadata": {},
   "outputs": [],
   "source": [
    "same_session = tt.Session(name=\"same_session\")"
   ]
  },
  {
   "cell_type": "code",
   "execution_count": 13,
   "id": "df366dfa-e3f4-40b5-a515-a2ced40cbc83",
   "metadata": {},
   "outputs": [],
   "source": [
    "table = same_session.create_table(\n",
    "    name=\"base\",\n",
    "    types={\n",
    "        \"mv\": tt.DOUBLE,\n",
    "        \"cusip\": tt.STRING,\n",
    "        \"portfolio_id\": tt.STRING,\n",
    "        \"benchmark_id\": tt.STRING,\n",
    "    },\n",
    "    keys=[\"cusip\", \"portfolio_id\", \"benchmark_id\"],\n",
    "    default_values={\n",
    "        \"portfolio_id\": \"fake_ben\",\n",
    "        \"benchmark_id\": \"fake_por\"\n",
    "    }\n",
    ")"
   ]
  },
  {
   "cell_type": "code",
   "execution_count": 14,
   "id": "5a126d13-6028-4026-a26a-8cb6f6506283",
   "metadata": {},
   "outputs": [],
   "source": [
    "table.load_pandas(benchmark_df)\n",
    "table.load_pandas(portfolio_df)"
   ]
  },
  {
   "cell_type": "code",
   "execution_count": 15,
   "id": "7f687af5-aa7a-496e-bd9d-c1d8b6f2d856",
   "metadata": {},
   "outputs": [],
   "source": [
    "cube = same_session.create_cube(table)\n",
    "m, l, h = cube.measures, cube.levels, cube.hierarchies"
   ]
  },
  {
   "cell_type": "code",
   "execution_count": 16,
   "id": "e517a1cf-2558-4f9d-981e-49b487f88a19",
   "metadata": {
    "atoti": {
     "widget": {
      "mapping": {
       "columns": [],
       "measures": [],
       "rows": []
      },
      "query": {
       "mdx": "SELECT FROM [base] CELL PROPERTIES VALUE, FORMATTED_VALUE, BACK_COLOR, FORE_COLOR, FONT_FLAGS",
       "updateMode": "once"
      },
      "serverKey": "default",
      "widgetKey": "pivot-table"
     }
    }
   },
   "outputs": [],
   "source": [
    "cube.create_parameter_hierarchy_from_members(name=\"Benchmark_id\", members=benchmark_df[\"benchmark_id\"].unique().tolist())"
   ]
  },
  {
   "cell_type": "code",
   "execution_count": 17,
   "id": "4a2b0ad1-dfdb-4712-b1b5-53bf7e2e3d59",
   "metadata": {
    "atoti": {
     "widget": {
      "mapping": {
       "columns": [],
       "measures": [],
       "rows": []
      },
      "query": {
       "mdx": "SELECT FROM [base] CELL PROPERTIES VALUE, FORMATTED_VALUE, BACK_COLOR, FORE_COLOR, FONT_FLAGS",
       "updateMode": "once"
      },
      "serverKey": "default",
      "widgetKey": "pivot-table"
     }
    }
   },
   "outputs": [],
   "source": [
    "cube.create_parameter_hierarchy_from_members(name=\"_portfolio_id\", members=[\"fake_ben\"])"
   ]
  },
  {
   "cell_type": "code",
   "execution_count": 18,
   "id": "3c742d46-0760-4e18-bb7a-b3b8ba9509d4",
   "metadata": {},
   "outputs": [],
   "source": [
    "h[\"_portfolio_id\"].visible=False\n",
    "h[\"benchmark_id\"].visible=False"
   ]
  },
  {
   "cell_type": "code",
   "execution_count": 19,
   "id": "7c118ba5-52bc-44ba-bedb-fe18e00ce3a1",
   "metadata": {},
   "outputs": [],
   "source": [
    "h[\"_portfolio_id\"].slicing=True"
   ]
  },
  {
   "cell_type": "code",
   "execution_count": 20,
   "id": "cbabecff-f242-4227-b005-db8038ad4553",
   "metadata": {},
   "outputs": [],
   "source": [
    "h[\"portfolio_id\"].slicing=True"
   ]
  },
  {
   "cell_type": "code",
   "execution_count": 21,
   "id": "f67f9e6e-538f-4b3f-bb46-c6c2e5780de4",
   "metadata": {},
   "outputs": [],
   "source": [
    "m[\"portfolio_mv\"] = tt.filter(m[\"mv.SUM\"], l[\"benchmark_id\"] == \"fake_por\")"
   ]
  },
  {
   "cell_type": "code",
   "execution_count": 40,
   "id": "6409dfc5-565e-4cc5-bb26-4408f503ea87",
   "metadata": {},
   "outputs": [],
   "source": [
    "m[\"benchmark_mv\"] = tt.agg.sum(\n",
    "    tt.at(\n",
    "        m[\"mv.SUM\"],\n",
    "        (l[\"benchmark_id\"] == l[\"Benchmark_id\"]) & (l[\"portfolio_id\"] == l[\"_portfolio_id\"]),\n",
    "    ),\n",
    "    scope=tt.OriginScope(\n",
    "        l[\"benchmark_id\"]\n",
    "    )\n",
    ")"
   ]
  },
  {
   "cell_type": "code",
   "execution_count": 23,
   "id": "ae0a22f0-4a06-4715-b6cc-8851f3c49c68",
   "metadata": {},
   "outputs": [
    {
     "data": {
      "text/html": [
       "<div>\n",
       "<style scoped>\n",
       "    .dataframe tbody tr th:only-of-type {\n",
       "        vertical-align: middle;\n",
       "    }\n",
       "\n",
       "    .dataframe tbody tr th {\n",
       "        vertical-align: top;\n",
       "    }\n",
       "\n",
       "    .dataframe thead th {\n",
       "        text-align: right;\n",
       "    }\n",
       "</style>\n",
       "<table border=\"1\" class=\"dataframe\">\n",
       "  <thead>\n",
       "    <tr style=\"text-align: right;\">\n",
       "      <th></th>\n",
       "      <th></th>\n",
       "      <th></th>\n",
       "      <th>mv</th>\n",
       "    </tr>\n",
       "    <tr>\n",
       "      <th>cusip</th>\n",
       "      <th>portfolio_id</th>\n",
       "      <th>benchmark_id</th>\n",
       "      <th></th>\n",
       "    </tr>\n",
       "  </thead>\n",
       "  <tbody>\n",
       "    <tr>\n",
       "      <th>pos1</th>\n",
       "      <th>fake_ben</th>\n",
       "      <th>b1</th>\n",
       "      <td>10.0</td>\n",
       "    </tr>\n",
       "    <tr>\n",
       "      <th rowspan=\"2\" valign=\"top\">pos2</th>\n",
       "      <th rowspan=\"2\" valign=\"top\">fake_ben</th>\n",
       "      <th>b1</th>\n",
       "      <td>20.0</td>\n",
       "    </tr>\n",
       "    <tr>\n",
       "      <th>b2</th>\n",
       "      <td>30.0</td>\n",
       "    </tr>\n",
       "    <tr>\n",
       "      <th>pos1</th>\n",
       "      <th>p1</th>\n",
       "      <th>fake_por</th>\n",
       "      <td>50.0</td>\n",
       "    </tr>\n",
       "    <tr>\n",
       "      <th>pos3</th>\n",
       "      <th>fake_ben</th>\n",
       "      <th>b3</th>\n",
       "      <td>40.0</td>\n",
       "    </tr>\n",
       "    <tr>\n",
       "      <th>pos2</th>\n",
       "      <th>p2</th>\n",
       "      <th>fake_por</th>\n",
       "      <td>60.0</td>\n",
       "    </tr>\n",
       "    <tr>\n",
       "      <th>pos3</th>\n",
       "      <th>p3</th>\n",
       "      <th>fake_por</th>\n",
       "      <td>70.0</td>\n",
       "    </tr>\n",
       "    <tr>\n",
       "      <th>pos4</th>\n",
       "      <th>p4</th>\n",
       "      <th>fake_por</th>\n",
       "      <td>80.0</td>\n",
       "    </tr>\n",
       "  </tbody>\n",
       "</table>\n",
       "</div>"
      ],
      "text/plain": [
       "                                   mv\n",
       "cusip portfolio_id benchmark_id      \n",
       "pos1  fake_ben     b1            10.0\n",
       "pos2  fake_ben     b1            20.0\n",
       "                   b2            30.0\n",
       "pos1  p1           fake_por      50.0\n",
       "pos3  fake_ben     b3            40.0\n",
       "pos2  p2           fake_por      60.0\n",
       "pos3  p3           fake_por      70.0\n",
       "pos4  p4           fake_por      80.0"
      ]
     },
     "execution_count": 23,
     "metadata": {},
     "output_type": "execute_result"
    }
   ],
   "source": [
    "table.head(16)"
   ]
  },
  {
   "cell_type": "code",
   "execution_count": 41,
   "id": "36865c7b-bd40-40e2-9210-2cfab8112c88",
   "metadata": {
    "atoti": {
     "widget": {
      "mapping": {
       "columns": [
        "ALL_MEASURES"
       ],
       "measures": [
        "[Measures].[contributors.COUNT]",
        "[Measures].[portfolio_mv]",
        "[Measures].[benchmark_mv]"
       ],
       "rows": [
        "[base].[portfolio_id].[portfolio_id]",
        "[Benchmark_id].[Benchmark_id].[Benchmark_id]"
       ]
      },
      "query": {
       "mdx": "SELECT NON EMPTY Crossjoin([base].[portfolio_id].[portfolio_id].Members, [Benchmark_id].[Benchmark_id].[Benchmark_id].Members) ON ROWS, NON EMPTY {[Measures].[contributors.COUNT], [Measures].[portfolio_mv], [Measures].[benchmark_mv]} ON COLUMNS FROM [base] CELL PROPERTIES VALUE, FORMATTED_VALUE, BACK_COLOR, FORE_COLOR, FONT_FLAGS",
       "updateMode": "once"
      },
      "serverKey": "default",
      "widgetKey": "pivot-table"
     }
    }
   },
   "outputs": [
    {
     "data": {
      "application/vnd.atoti.widget.v0+json": {
       "sessionId": "1710773395_XXUEGS",
       "sessionLocation": {
        "https": false,
        "port": 59408
       },
       "widgetCreationCode": "same_session.widget"
      },
      "text/html": [
       "<img height=\"352\" width=\"1099\" src=\"data:image/png;base64,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\" />"
      ],
      "text/plain": [
       "Open the notebook in JupyterLab with the Atoti JupyterLab extension enabled to build this widget."
      ]
     },
     "metadata": {},
     "output_type": "display_data"
    }
   ],
   "source": [
    "same_session.widget"
   ]
  },
  {
   "cell_type": "code",
   "execution_count": null,
   "id": "57240717-2a42-490f-a4ea-a24712945191",
   "metadata": {},
   "outputs": [],
   "source": []
  }
 ],
 "metadata": {
  "kernelspec": {
   "display_name": "Python 3 (ipykernel)",
   "language": "python",
   "name": "python3"
  },
  "language_info": {
   "codemirror_mode": {
    "name": "ipython",
    "version": 3
   },
   "file_extension": ".py",
   "mimetype": "text/x-python",
   "name": "python",
   "nbconvert_exporter": "python",
   "pygments_lexer": "ipython3",
   "version": "3.12.2"
  }
 },
 "nbformat": 4,
 "nbformat_minor": 5
}
